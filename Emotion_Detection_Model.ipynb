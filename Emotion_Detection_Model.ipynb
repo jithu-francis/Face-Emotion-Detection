{
  "nbformat": 4,
  "nbformat_minor": 0,
  "metadata": {
    "colab": {
      "private_outputs": true,
      "provenance": []
    },
    "kernelspec": {
      "name": "python3",
      "display_name": "Python 3"
    },
    "language_info": {
      "name": "python"
    }
  },
  "cells": [
    {
      "cell_type": "code",
      "execution_count": null,
      "metadata": {
        "id": "EXvYEWOIIjjG"
      },
      "outputs": [],
      "source": [
        "!pip install tensorflow"
      ]
    },
    {
      "cell_type": "code",
      "source": [
        "from tensorflow.keras.preprocessing.image import ImageDataGenerator\n",
        "from tensorflow.keras.applications import MobileNetV2\n",
        "from tensorflow.keras.layers import AveragePooling2D\n",
        "from tensorflow.keras.layers import Dropout\n",
        "from tensorflow.keras.layers import Flatten\n",
        "from tensorflow.keras.layers import Dense\n",
        "from tensorflow.keras.layers import Input\n",
        "from tensorflow.keras.models import Model\n",
        "from tensorflow.keras.applications.mobilenet_v2 import preprocess_input\n",
        "from tensorflow.keras.preprocessing.image import img_to_array\n",
        "from tensorflow.keras.preprocessing.image import load_img\n",
        "from tensorflow.keras.utils import to_categorical\n",
        "from sklearn.preprocessing import LabelBinarizer\n",
        "from sklearn.model_selection import train_test_split\n",
        "from sklearn.metrics import classification_report\n",
        "from imutils import paths\n",
        "\n",
        "import matplotlib.pyplot as plt\n",
        "import numpy as np\n",
        "import argparse\n",
        "import os\n",
        "import tensorflow as tf"
      ],
      "metadata": {
        "id": "eUNOrSDUIx5m"
      },
      "execution_count": null,
      "outputs": []
    },
    {
      "cell_type": "code",
      "source": [
        "# Mount Google Drive\n",
        "from google.colab import drive\n",
        "drive.mount('/content/drive')"
      ],
      "metadata": {
        "id": "doBFYmyJIzL-"
      },
      "execution_count": null,
      "outputs": []
    },
    {
      "cell_type": "code",
      "source": [
        "#Hyper Parameters\n",
        "INIT_LR = 1e-4    #Initial Learning Rate\n",
        "EPOCHS = 10     #Increase the no of EPOCHS for better training\n",
        "BS = 32     #Batch Size\n",
        "\n",
        "dataset_path = '/content/drive/MyDrive/Dataset'\n",
        "\n",
        "print(\"[INFO] loading images....\")\n",
        "imagePaths = list(paths.list_images(dataset_path))\n",
        "data = []\n",
        "labels = []\n",
        "\n",
        "if not imagePaths:\n",
        "    raise ValueError(\"No image files found in the dataset directory.\")\n",
        "\n",
        "for imagePath in imagePaths:\n",
        "  label = imagePath.split(os.path.sep)[-2]\n",
        "\n",
        "  image = load_img(imagePath, target_size=(224,224))\n",
        "  image = img_to_array(image)\n",
        "  image = preprocess_input(image)\n",
        "\n",
        "  data.append(image)\n",
        "  labels.append(label)\n",
        "\n",
        "data = np.array(data,dtype = \"float32\")\n",
        "labels = np.array(labels)\n",
        "\n",
        "if len(labels) == 0:\n",
        "    raise ValueError(\"No labels were extracted from the dataset.\")\n",
        "\n",
        "\n",
        "lb = LabelBinarizer()\n",
        "labels = lb.fit_transform(labels)\n",
        "labels = to_categorical(labels)"
      ],
      "metadata": {
        "id": "zusT5y39JFYB"
      },
      "execution_count": null,
      "outputs": []
    },
    {
      "cell_type": "code",
      "source": [
        "# Split the dataset into train data and test data.\n",
        "(trainX, testX, trainY, testY) = train_test_split(data, labels, test_size=0.20, stratify=labels, random_state=42)\n",
        "\n",
        "# Construct the training image generator for data augmentation\n",
        "aug = ImageDataGenerator(\n",
        "    rotation_range=20,\n",
        "    zoom_range=0.15,\n",
        "    width_shift_range=0.2,\n",
        "    height_shift_range=0.2,\n",
        "    shear_range=0.15,\n",
        "    horizontal_flip=True,\n",
        "    fill_mode=\"nearest\")\n",
        "\n",
        "# Load the MobileNetV2 network, ensuring the head FC layer sets are left off\n",
        "baseModel = MobileNetV2(weights=\"imagenet\", include_top=False, input_tensor=Input(shape=(224, 224, 3)))\n",
        "\n",
        "# Construct the head of the model that will be placed on top of the base model\n",
        "headModel = baseModel.output\n",
        "headModel = AveragePooling2D(pool_size=(7, 7))(headModel)\n",
        "headModel = Flatten(name=\"flatten\")(headModel)\n",
        "headModel = Dense(128, activation=\"relu\")(headModel)\n",
        "headModel = Dropout(0.5)(headModel)\n",
        "headModel = Dense(2, activation=\"softmax\")(headModel)\n",
        "\n",
        "# Place the head FC model on top of the base model (this will become the actual model we will train)\n",
        "model = Model(inputs=baseModel.input, outputs=headModel)\n",
        "\n",
        "# Loop over all layers in the base model and freeze them so they will not be updated during the first training process\n",
        "for layer in baseModel.layers:\n",
        "    layer.trainable = False\n",
        "\n"
      ],
      "metadata": {
        "id": "qSOO97apJOJg"
      },
      "execution_count": null,
      "outputs": []
    },
    {
      "cell_type": "code",
      "source": [
        "from tensorflow.keras.optimizers.legacy import Adam\n",
        "\n",
        "print(\"[INFO] Compiling model....\")\n",
        "opt = Adam(learning_rate = INIT_LR, decay = INIT_LR / EPOCHS)\n",
        "model.compile(loss=\"binary_crossentropy\", optimizer=opt, metrics=[\"accuracy\"])\n",
        "\n",
        "print(\"[INFO] Training Head...\")\n",
        "H = model.fit(\n",
        "    aug.flow(trainX, trainY, batch_size = BS),\n",
        "    steps_per_epoch = len(trainX) // BS,\n",
        "    validation_data = (testX, testY),\n",
        "    validation_steps = len(testX) //BS,\n",
        "    epochs = EPOCHS\n",
        "    )\n",
        "print(\"[INFO] Evaluating network....\")\n",
        "predIdxs = model.predict(testX, batch_size = BS)\n",
        "predIdxs = np.argmax(predIdxs, axis=1)\n",
        "print(classification_report(testY.argmax(axis=1), predIdxs, target_names=lb.classes_))\n",
        "\n",
        "print(\"[INFO] Saving emotion detector model....\")\n",
        "model.save('/content/drive/MyDrive/Dataset/emotion_detection.model')\n",
        "\n",
        "# Plot the training loss and accuracy\n",
        "N = EPOCHS\n",
        "plt.style.use(\"ggplot\")\n",
        "plt.figure()\n",
        "plt.plot(np.arange(0, N), H.history[\"loss\"], label=\"train_loss\")\n",
        "plt.plot(np.arange(0, N), H.history[\"val_loss\"], label=\"val_loss\")\n",
        "plt.plot(np.arange(0, N), H.history[\"accuracy\"], label=\"train_acc\")\n",
        "plt.plot(np.arange(0, N), H.history[\"val_accuracy\"], label=\"val_acc\")\n",
        "plt.title(\"Training Loss and Accuracy\")\n",
        "plt.xlabel(\"Epoch #\")\n",
        "plt.ylabel(\"Loss/Accuracy\")\n",
        "plt.legend(loc=\"lower left\")\n",
        "plt.savefig('/content/drive/MyDrive/Dataset/plot.png')  # Replace with your desired save path\n"
      ],
      "metadata": {
        "id": "zoyepzmTPqYe"
      },
      "execution_count": null,
      "outputs": []
    }
  ]
}